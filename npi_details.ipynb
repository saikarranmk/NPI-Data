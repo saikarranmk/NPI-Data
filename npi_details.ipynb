{
 "cells": [
  {
   "cell_type": "code",
   "execution_count": 1,
   "id": "2a2257e1",
   "metadata": {},
   "outputs": [],
   "source": [
    "import requests\n",
    "import json\n",
    "import pandas as pd\n",
    "import numpy as np\n",
    "from flatten_json import flatten\n",
    "out_path=r'C:\\Users\\kffx836\\OneDrive - AZCollaboration\\Attachments\\Other files\\NPI files'"
   ]
  },
  {
   "cell_type": "markdown",
   "id": "718ebe88",
   "metadata": {},
   "source": [
    "# NPI Search at Pin Code Level"
   ]
  },
  {
   "cell_type": "code",
   "execution_count": 2,
   "id": "3b36f136",
   "metadata": {},
   "outputs": [
    {
     "name": "stdout",
     "output_type": "stream",
     "text": [
      "{\"result_count\":3,\"results\":[{\"created_epoch\":\"1359070245000\",\"enumeration_type\":\"NPI-1\",\"last_updated_epoch\":\"1359070245000\",\"number\":\"1467790436\",\"addresses\":[{\"country_code\":\"US\",\"country_name\":\"United States\",\"address_purpose\":\"MAILING\",\"address_type\":\"DOM\",\"address_1\":\"PO BOX 13201\",\"city\":\"SACRAMENTO\",\"state\":\"CA\",\"postal_code\":\"958133201\"},{\"country_code\":\"US\",\"country_name\":\"United States\",\"address_purpose\":\"LOCATION\",\"address_type\":\"DOM\",\"address_1\":\"1718 RIVER CITY WAY\",\"city\":\"SACRAMENTO\",\"state\":\"CA\",\"postal_code\":\"958331806\",\"telephone_number\":\"916-261-7475\"}],\"practiceLocations\":[],\"basic\":{\"first_name\":\"ANGELA\",\"last_name\":\"CORREALE\",\"sole_proprietor\":\"YES\",\"gender\":\"F\",\"enumeration_date\":\"2013-01-24\",\"last_updated\":\"2013-01-24\",\"status\":\"A\",\"name_prefix\":\"Dr.\",\"name_suffix\":\"--\"},\"taxonomies\":[{\"code\":\"103TC0700X\",\"taxonomy_group\":\"\",\"desc\":\"Psychologist, Clinical\",\"state\":\"CA\",\"license\":\"PSY24737\",\"primary\":true},{\"code\":\"103TC0700X\",\"taxonomy_group\":\"\",\"desc\":\"Psychologist, Clinical\",\"state\":\"HI\",\"license\":\"PSY 825\",\"primary\":false}],\"identifiers\":[],\"endpoints\":[],\"other_names\":[]},{\"created_epoch\":\"1357501944000\",\"enumeration_type\":\"NPI-1\",\"last_updated_epoch\":\"1357501944000\",\"number\":\"1689911067\",\"addresses\":[{\"country_code\":\"US\",\"country_name\":\"United States\",\"address_purpose\":\"MAILING\",\"address_type\":\"DOM\",\"address_1\":\"PO BOX 13003\",\"city\":\"SACRAMENTO\",\"state\":\"CA\",\"postal_code\":\"958133003\",\"telephone_number\":\"916-509-1509\"},{\"country_code\":\"US\",\"country_name\":\"United States\",\"address_purpose\":\"LOCATION\",\"address_type\":\"DOM\",\"address_1\":\"2608 FAIRFIELD ST\",\"city\":\"SACRAMENTO\",\"state\":\"CA\",\"postal_code\":\"958152171\",\"telephone_number\":\"916-509-1509\"}],\"practiceLocations\":[],\"basic\":{\"first_name\":\"PRISCILLA\",\"last_name\":\"LORIGA\",\"credential\":\"R.N.\",\"sole_proprietor\":\"YES\",\"gender\":\"F\",\"enumeration_date\":\"2013-01-06\",\"last_updated\":\"2013-01-06\",\"status\":\"A\",\"name_prefix\":\"Ms.\",\"name_suffix\":\"--\"},\"taxonomies\":[{\"code\":\"163W00000X\",\"taxonomy_group\":\"\",\"desc\":\"Registered Nurse\",\"state\":\"CA\",\"license\":\"780920\",\"primary\":true}],\"identifiers\":[],\"endpoints\":[],\"other_names\":[]},{\"created_epoch\":\"1358292585000\",\"enumeration_type\":\"NPI-1\",\"last_updated_epoch\":\"1397067085000\",\"number\":\"1083951651\",\"addresses\":[{\"country_code\":\"US\",\"country_name\":\"United States\",\"address_purpose\":\"MAILING\",\"address_type\":\"DOM\",\"address_1\":\"PO BOX 13498\",\"city\":\"SACRAMENTO\",\"state\":\"CA\",\"postal_code\":\"958133498\"},{\"country_code\":\"US\",\"country_name\":\"United States\",\"address_purpose\":\"LOCATION\",\"address_type\":\"DOM\",\"address_1\":\"2030 W EL CAMINO AVE STE 200\",\"city\":\"SACRAMENTO\",\"state\":\"CA\",\"postal_code\":\"958331867\",\"telephone_number\":\"949-294-1704\"}],\"practiceLocations\":[],\"basic\":{\"first_name\":\"GITA\",\"last_name\":\"SESHADRI\",\"credential\":\"Ph.D\",\"sole_proprietor\":\"YES\",\"gender\":\"F\",\"enumeration_date\":\"2013-01-15\",\"last_updated\":\"2014-04-09\",\"status\":\"A\",\"name_prefix\":\"Dr.\",\"name_suffix\":\"--\"},\"taxonomies\":[{\"code\":\"106H00000X\",\"taxonomy_group\":\"\",\"desc\":\"Marriage & Family Therapist\",\"state\":\"CA\",\"license\":\"MFC 48254\",\"primary\":true}],\"identifiers\":[],\"endpoints\":[],\"other_names\":[]}]}\n"
     ]
    }
   ],
   "source": [
    "X='95813' # Input Pin code for 10 length\n",
    "r = requests.get('https://npiregistry.cms.hhs.gov/api/?number=&enumeration_type=&taxonomy_description=&first_name=&last_name=&organization_name=&address_purpose=&city=&state=&postal_code='+ X +'&country_code=&version=2.1')\n",
    "results_text = r.text\n",
    "print(results_text)"
   ]
  },
  {
   "cell_type": "code",
   "execution_count": 3,
   "id": "d14323fb",
   "metadata": {},
   "outputs": [
    {
     "name": "stdout",
     "output_type": "stream",
     "text": [
      "3\n",
      "{'created_epoch': '1359070245000', 'enumeration_type': 'NPI-1', 'last_updated_epoch': '1359070245000', 'number': '1467790436', 'addresses_0_country_code': 'US', 'addresses_0_country_name': 'United States', 'addresses_0_address_purpose': 'MAILING', 'addresses_0_address_type': 'DOM', 'addresses_0_address_1': 'PO BOX 13201', 'addresses_0_city': 'SACRAMENTO', 'addresses_0_state': 'CA', 'addresses_0_postal_code': '958133201', 'addresses_1_country_code': 'US', 'addresses_1_country_name': 'United States', 'addresses_1_address_purpose': 'LOCATION', 'addresses_1_address_type': 'DOM', 'addresses_1_address_1': '1718 RIVER CITY WAY', 'addresses_1_city': 'SACRAMENTO', 'addresses_1_state': 'CA', 'addresses_1_postal_code': '958331806', 'addresses_1_telephone_number': '916-261-7475', 'practiceLocations': [], 'basic_first_name': 'ANGELA', 'basic_last_name': 'CORREALE', 'basic_sole_proprietor': 'YES', 'basic_gender': 'F', 'basic_enumeration_date': '2013-01-24', 'basic_last_updated': '2013-01-24', 'basic_status': 'A', 'basic_name_prefix': 'Dr.', 'basic_name_suffix': '--', 'taxonomies_0_code': '103TC0700X', 'taxonomies_0_taxonomy_group': '', 'taxonomies_0_desc': 'Psychologist, Clinical', 'taxonomies_0_state': 'CA', 'taxonomies_0_license': 'PSY24737', 'taxonomies_0_primary': True, 'taxonomies_1_code': '103TC0700X', 'taxonomies_1_taxonomy_group': '', 'taxonomies_1_desc': 'Psychologist, Clinical', 'taxonomies_1_state': 'HI', 'taxonomies_1_license': 'PSY 825', 'taxonomies_1_primary': False, 'identifiers': [], 'endpoints': [], 'other_names': []}\n",
      "{'created_epoch': '1357501944000', 'enumeration_type': 'NPI-1', 'last_updated_epoch': '1357501944000', 'number': '1689911067', 'addresses_0_country_code': 'US', 'addresses_0_country_name': 'United States', 'addresses_0_address_purpose': 'MAILING', 'addresses_0_address_type': 'DOM', 'addresses_0_address_1': 'PO BOX 13003', 'addresses_0_city': 'SACRAMENTO', 'addresses_0_state': 'CA', 'addresses_0_postal_code': '958133003', 'addresses_0_telephone_number': '916-509-1509', 'addresses_1_country_code': 'US', 'addresses_1_country_name': 'United States', 'addresses_1_address_purpose': 'LOCATION', 'addresses_1_address_type': 'DOM', 'addresses_1_address_1': '2608 FAIRFIELD ST', 'addresses_1_city': 'SACRAMENTO', 'addresses_1_state': 'CA', 'addresses_1_postal_code': '958152171', 'addresses_1_telephone_number': '916-509-1509', 'practiceLocations': [], 'basic_first_name': 'PRISCILLA', 'basic_last_name': 'LORIGA', 'basic_credential': 'R.N.', 'basic_sole_proprietor': 'YES', 'basic_gender': 'F', 'basic_enumeration_date': '2013-01-06', 'basic_last_updated': '2013-01-06', 'basic_status': 'A', 'basic_name_prefix': 'Ms.', 'basic_name_suffix': '--', 'taxonomies_0_code': '163W00000X', 'taxonomies_0_taxonomy_group': '', 'taxonomies_0_desc': 'Registered Nurse', 'taxonomies_0_state': 'CA', 'taxonomies_0_license': '780920', 'taxonomies_0_primary': True, 'identifiers': [], 'endpoints': [], 'other_names': []}\n",
      "{'created_epoch': '1358292585000', 'enumeration_type': 'NPI-1', 'last_updated_epoch': '1397067085000', 'number': '1083951651', 'addresses_0_country_code': 'US', 'addresses_0_country_name': 'United States', 'addresses_0_address_purpose': 'MAILING', 'addresses_0_address_type': 'DOM', 'addresses_0_address_1': 'PO BOX 13498', 'addresses_0_city': 'SACRAMENTO', 'addresses_0_state': 'CA', 'addresses_0_postal_code': '958133498', 'addresses_1_country_code': 'US', 'addresses_1_country_name': 'United States', 'addresses_1_address_purpose': 'LOCATION', 'addresses_1_address_type': 'DOM', 'addresses_1_address_1': '2030 W EL CAMINO AVE STE 200', 'addresses_1_city': 'SACRAMENTO', 'addresses_1_state': 'CA', 'addresses_1_postal_code': '958331867', 'addresses_1_telephone_number': '949-294-1704', 'practiceLocations': [], 'basic_first_name': 'GITA', 'basic_last_name': 'SESHADRI', 'basic_credential': 'Ph.D', 'basic_sole_proprietor': 'YES', 'basic_gender': 'F', 'basic_enumeration_date': '2013-01-15', 'basic_last_updated': '2014-04-09', 'basic_status': 'A', 'basic_name_prefix': 'Dr.', 'basic_name_suffix': '--', 'taxonomies_0_code': '106H00000X', 'taxonomies_0_taxonomy_group': '', 'taxonomies_0_desc': 'Marriage & Family Therapist', 'taxonomies_0_state': 'CA', 'taxonomies_0_license': 'MFC 48254', 'taxonomies_0_primary': True, 'identifiers': [], 'endpoints': [], 'other_names': []}\n"
     ]
    }
   ],
   "source": [
    "results_json = r.json()\n",
    "result_count = results_json['result_count']\n",
    "print(result_count)\n",
    "#Create loop parameters\n",
    "i = 0\n",
    "#Create loop\n",
    "while i < result_count:\n",
    "    record = flatten(results_json['results'][i])\n",
    "    print(record)\n",
    "    data = pd.DataFrame.from_dict(record,orient='index').T\n",
    "    if i == 0:\n",
    "        df = data\n",
    "    else:\n",
    "        df = pd.concat([df,data], axis=0, ignore_index=True)\n",
    "    i+=1"
   ]
  },
  {
   "cell_type": "code",
   "execution_count": 4,
   "id": "f1198d10",
   "metadata": {},
   "outputs": [],
   "source": [
    "df.columns=df.columns.str.replace(\"number\",\"npi_number\")"
   ]
  },
  {
   "cell_type": "code",
   "execution_count": 5,
   "id": "5a2127b5",
   "metadata": {},
   "outputs": [
    {
     "data": {
      "text/html": [
       "<div>\n",
       "<style scoped>\n",
       "    .dataframe tbody tr th:only-of-type {\n",
       "        vertical-align: middle;\n",
       "    }\n",
       "\n",
       "    .dataframe tbody tr th {\n",
       "        vertical-align: top;\n",
       "    }\n",
       "\n",
       "    .dataframe thead th {\n",
       "        text-align: right;\n",
       "    }\n",
       "</style>\n",
       "<table border=\"1\" class=\"dataframe\">\n",
       "  <thead>\n",
       "    <tr style=\"text-align: right;\">\n",
       "      <th></th>\n",
       "      <th>created_epoch</th>\n",
       "      <th>enumeration_type</th>\n",
       "      <th>last_updated_epoch</th>\n",
       "      <th>npi_number</th>\n",
       "      <th>addresses_0_country_code</th>\n",
       "      <th>addresses_0_country_name</th>\n",
       "      <th>addresses_0_address_purpose</th>\n",
       "      <th>addresses_0_address_type</th>\n",
       "      <th>addresses_0_address_1</th>\n",
       "      <th>addresses_0_city</th>\n",
       "      <th>...</th>\n",
       "      <th>taxonomies_1_taxonomy_group</th>\n",
       "      <th>taxonomies_1_desc</th>\n",
       "      <th>taxonomies_1_state</th>\n",
       "      <th>taxonomies_1_license</th>\n",
       "      <th>taxonomies_1_primary</th>\n",
       "      <th>identifiers</th>\n",
       "      <th>endpoints</th>\n",
       "      <th>other_names</th>\n",
       "      <th>addresses_0_telephone_npi_number</th>\n",
       "      <th>basic_credential</th>\n",
       "    </tr>\n",
       "  </thead>\n",
       "  <tbody>\n",
       "    <tr>\n",
       "      <th>0</th>\n",
       "      <td>1359070245000</td>\n",
       "      <td>NPI-1</td>\n",
       "      <td>1359070245000</td>\n",
       "      <td>1467790436</td>\n",
       "      <td>US</td>\n",
       "      <td>United States</td>\n",
       "      <td>MAILING</td>\n",
       "      <td>DOM</td>\n",
       "      <td>PO BOX 13201</td>\n",
       "      <td>SACRAMENTO</td>\n",
       "      <td>...</td>\n",
       "      <td></td>\n",
       "      <td>Psychologist, Clinical</td>\n",
       "      <td>HI</td>\n",
       "      <td>PSY 825</td>\n",
       "      <td>False</td>\n",
       "      <td>[]</td>\n",
       "      <td>[]</td>\n",
       "      <td>[]</td>\n",
       "      <td>NaN</td>\n",
       "      <td>NaN</td>\n",
       "    </tr>\n",
       "    <tr>\n",
       "      <th>1</th>\n",
       "      <td>1357501944000</td>\n",
       "      <td>NPI-1</td>\n",
       "      <td>1357501944000</td>\n",
       "      <td>1689911067</td>\n",
       "      <td>US</td>\n",
       "      <td>United States</td>\n",
       "      <td>MAILING</td>\n",
       "      <td>DOM</td>\n",
       "      <td>PO BOX 13003</td>\n",
       "      <td>SACRAMENTO</td>\n",
       "      <td>...</td>\n",
       "      <td>NaN</td>\n",
       "      <td>NaN</td>\n",
       "      <td>NaN</td>\n",
       "      <td>NaN</td>\n",
       "      <td>NaN</td>\n",
       "      <td>[]</td>\n",
       "      <td>[]</td>\n",
       "      <td>[]</td>\n",
       "      <td>916-509-1509</td>\n",
       "      <td>R.N.</td>\n",
       "    </tr>\n",
       "    <tr>\n",
       "      <th>2</th>\n",
       "      <td>1358292585000</td>\n",
       "      <td>NPI-1</td>\n",
       "      <td>1397067085000</td>\n",
       "      <td>1083951651</td>\n",
       "      <td>US</td>\n",
       "      <td>United States</td>\n",
       "      <td>MAILING</td>\n",
       "      <td>DOM</td>\n",
       "      <td>PO BOX 13498</td>\n",
       "      <td>SACRAMENTO</td>\n",
       "      <td>...</td>\n",
       "      <td>NaN</td>\n",
       "      <td>NaN</td>\n",
       "      <td>NaN</td>\n",
       "      <td>NaN</td>\n",
       "      <td>NaN</td>\n",
       "      <td>[]</td>\n",
       "      <td>[]</td>\n",
       "      <td>[]</td>\n",
       "      <td>NaN</td>\n",
       "      <td>Ph.D</td>\n",
       "    </tr>\n",
       "  </tbody>\n",
       "</table>\n",
       "<p>3 rows × 48 columns</p>\n",
       "</div>"
      ],
      "text/plain": [
       "   created_epoch enumeration_type last_updated_epoch  npi_number  \\\n",
       "0  1359070245000            NPI-1      1359070245000  1467790436   \n",
       "1  1357501944000            NPI-1      1357501944000  1689911067   \n",
       "2  1358292585000            NPI-1      1397067085000  1083951651   \n",
       "\n",
       "  addresses_0_country_code addresses_0_country_name  \\\n",
       "0                       US            United States   \n",
       "1                       US            United States   \n",
       "2                       US            United States   \n",
       "\n",
       "  addresses_0_address_purpose addresses_0_address_type addresses_0_address_1  \\\n",
       "0                     MAILING                      DOM          PO BOX 13201   \n",
       "1                     MAILING                      DOM          PO BOX 13003   \n",
       "2                     MAILING                      DOM          PO BOX 13498   \n",
       "\n",
       "  addresses_0_city  ... taxonomies_1_taxonomy_group       taxonomies_1_desc  \\\n",
       "0       SACRAMENTO  ...                              Psychologist, Clinical   \n",
       "1       SACRAMENTO  ...                         NaN                     NaN   \n",
       "2       SACRAMENTO  ...                         NaN                     NaN   \n",
       "\n",
       "  taxonomies_1_state taxonomies_1_license taxonomies_1_primary identifiers  \\\n",
       "0                 HI              PSY 825                False          []   \n",
       "1                NaN                  NaN                  NaN          []   \n",
       "2                NaN                  NaN                  NaN          []   \n",
       "\n",
       "  endpoints other_names addresses_0_telephone_npi_number basic_credential  \n",
       "0        []          []                              NaN              NaN  \n",
       "1        []          []                     916-509-1509             R.N.  \n",
       "2        []          []                              NaN             Ph.D  \n",
       "\n",
       "[3 rows x 48 columns]"
      ]
     },
     "execution_count": 5,
     "metadata": {},
     "output_type": "execute_result"
    }
   ],
   "source": [
    "df"
   ]
  },
  {
   "cell_type": "code",
   "execution_count": 6,
   "id": "f748106e",
   "metadata": {},
   "outputs": [],
   "source": [
    "df.to_csv(r'C:\\Users\\kffx836\\OneDrive - AZCollaboration\\Attachments\\Other files\\NPI files\\npi_details_for_the_pincode_'+X+'.csv')"
   ]
  },
  {
   "cell_type": "code",
   "execution_count": null,
   "id": "826fcab8",
   "metadata": {},
   "outputs": [],
   "source": []
  },
  {
   "cell_type": "markdown",
   "id": "2a107b92",
   "metadata": {},
   "source": [
    "# <font color = \"red\"> For searching at NPI Level </font>"
   ]
  },
  {
   "cell_type": "code",
   "execution_count": 7,
   "id": "1900dd93",
   "metadata": {},
   "outputs": [
    {
     "name": "stdout",
     "output_type": "stream",
     "text": [
      "{'result_count': 1, 'results': [{'created_epoch': '1359070245000', 'enumeration_type': 'NPI-1', 'last_updated_epoch': '1359070245000', 'number': '1467790436', 'addresses': [{'country_code': 'US', 'country_name': 'United States', 'address_purpose': 'MAILING', 'address_type': 'DOM', 'address_1': 'PO BOX 13201', 'city': 'SACRAMENTO', 'state': 'CA', 'postal_code': '958133201'}, {'country_code': 'US', 'country_name': 'United States', 'address_purpose': 'LOCATION', 'address_type': 'DOM', 'address_1': '1718 RIVER CITY WAY', 'city': 'SACRAMENTO', 'state': 'CA', 'postal_code': '958331806', 'telephone_number': '916-261-7475'}], 'practiceLocations': [], 'basic': {'first_name': 'ANGELA', 'last_name': 'CORREALE', 'sole_proprietor': 'YES', 'gender': 'F', 'enumeration_date': '2013-01-24', 'last_updated': '2013-01-24', 'status': 'A', 'name_prefix': 'Dr.', 'name_suffix': '--'}, 'taxonomies': [{'code': '103TC0700X', 'taxonomy_group': '', 'desc': 'Psychologist, Clinical', 'state': 'CA', 'license': 'PSY24737', 'primary': True}, {'code': '103TC0700X', 'taxonomy_group': '', 'desc': 'Psychologist, Clinical', 'state': 'HI', 'license': 'PSY 825', 'primary': False}], 'identifiers': [], 'endpoints': [], 'other_names': []}]}\n"
     ]
    }
   ],
   "source": [
    "import requests\n",
    "\n",
    "def collect_npi_details(npi_number):\n",
    "    url = r\"https://npiregistry.cms.hhs.gov/api/?number=\" + npi_number +\"&version=2.1\"\n",
    "    response = requests.get(url)\n",
    "    if response.status_code == 200:\n",
    "        data = response.json()\n",
    "        return data\n",
    "    else:\n",
    "        return None\n",
    "\n",
    "if __name__ == \"__main__\":\n",
    "    npi_number = '1467790436'  # Type an NPI\n",
    "    data = collect_npi_details(npi_number)\n",
    "    if data:\n",
    "        print(data)\n",
    "    else:\n",
    "        print(\"No data found\")"
   ]
  },
  {
   "cell_type": "code",
   "execution_count": 8,
   "id": "ae963388",
   "metadata": {},
   "outputs": [],
   "source": [
    "# def collect_first_name_last_name(npi_number):\n",
    "#    url = \"https://npiregistry.cms.hhs.gov/api/?number=\" + npi_number + \"&version=2.1\"\n",
    "#   response = requests.get(url)\n",
    "#    if response.status_code == 200:\n",
    "#            data = flatten(response.json())\n",
    "#            return data\n",
    "#        else:\n",
    "#            return None\n",
    "\n",
    "#    if __name__ == \"__main__\":\n",
    "#        npi_number = \"1548255284\"\n",
    "#        data = collect_first_name_last_name(npi_number)\n",
    "#        print(data)"
   ]
  },
  {
   "cell_type": "code",
   "execution_count": 9,
   "id": "b06cb857",
   "metadata": {},
   "outputs": [],
   "source": [
    "import json\n",
    "def remove_results_0_prefix(json_data):\n",
    "    new_json_data = {}\n",
    "    for key, value in json_data.items():\n",
    "        new_key = key.replace(\"results_0_\", \"\")\n",
    "        new_json_data[new_key] = value\n",
    "    return new_json_data"
   ]
  },
  {
   "cell_type": "code",
   "execution_count": 10,
   "id": "2889daea",
   "metadata": {},
   "outputs": [
    {
     "data": {
      "text/plain": [
       "{'result_count': 1,\n",
       " 'results': [{'created_epoch': '1359070245000',\n",
       "   'enumeration_type': 'NPI-1',\n",
       "   'last_updated_epoch': '1359070245000',\n",
       "   'number': '1467790436',\n",
       "   'addresses': [{'country_code': 'US',\n",
       "     'country_name': 'United States',\n",
       "     'address_purpose': 'MAILING',\n",
       "     'address_type': 'DOM',\n",
       "     'address_1': 'PO BOX 13201',\n",
       "     'city': 'SACRAMENTO',\n",
       "     'state': 'CA',\n",
       "     'postal_code': '958133201'},\n",
       "    {'country_code': 'US',\n",
       "     'country_name': 'United States',\n",
       "     'address_purpose': 'LOCATION',\n",
       "     'address_type': 'DOM',\n",
       "     'address_1': '1718 RIVER CITY WAY',\n",
       "     'city': 'SACRAMENTO',\n",
       "     'state': 'CA',\n",
       "     'postal_code': '958331806',\n",
       "     'telephone_number': '916-261-7475'}],\n",
       "   'practiceLocations': [],\n",
       "   'basic': {'first_name': 'ANGELA',\n",
       "    'last_name': 'CORREALE',\n",
       "    'sole_proprietor': 'YES',\n",
       "    'gender': 'F',\n",
       "    'enumeration_date': '2013-01-24',\n",
       "    'last_updated': '2013-01-24',\n",
       "    'status': 'A',\n",
       "    'name_prefix': 'Dr.',\n",
       "    'name_suffix': '--'},\n",
       "   'taxonomies': [{'code': '103TC0700X',\n",
       "     'taxonomy_group': '',\n",
       "     'desc': 'Psychologist, Clinical',\n",
       "     'state': 'CA',\n",
       "     'license': 'PSY24737',\n",
       "     'primary': True},\n",
       "    {'code': '103TC0700X',\n",
       "     'taxonomy_group': '',\n",
       "     'desc': 'Psychologist, Clinical',\n",
       "     'state': 'HI',\n",
       "     'license': 'PSY 825',\n",
       "     'primary': False}],\n",
       "   'identifiers': [],\n",
       "   'endpoints': [],\n",
       "   'other_names': []}]}"
      ]
     },
     "execution_count": 10,
     "metadata": {},
     "output_type": "execute_result"
    }
   ],
   "source": [
    "data"
   ]
  },
  {
   "cell_type": "code",
   "execution_count": 11,
   "id": "7570fa6c",
   "metadata": {},
   "outputs": [
    {
     "data": {
      "text/plain": [
       "{'result_count': 1,\n",
       " 'results': [{'created_epoch': '1359070245000',\n",
       "   'enumeration_type': 'NPI-1',\n",
       "   'last_updated_epoch': '1359070245000',\n",
       "   'number': '1467790436',\n",
       "   'addresses': [{'country_code': 'US',\n",
       "     'country_name': 'United States',\n",
       "     'address_purpose': 'MAILING',\n",
       "     'address_type': 'DOM',\n",
       "     'address_1': 'PO BOX 13201',\n",
       "     'city': 'SACRAMENTO',\n",
       "     'state': 'CA',\n",
       "     'postal_code': '958133201'},\n",
       "    {'country_code': 'US',\n",
       "     'country_name': 'United States',\n",
       "     'address_purpose': 'LOCATION',\n",
       "     'address_type': 'DOM',\n",
       "     'address_1': '1718 RIVER CITY WAY',\n",
       "     'city': 'SACRAMENTO',\n",
       "     'state': 'CA',\n",
       "     'postal_code': '958331806',\n",
       "     'telephone_number': '916-261-7475'}],\n",
       "   'practiceLocations': [],\n",
       "   'basic': {'first_name': 'ANGELA',\n",
       "    'last_name': 'CORREALE',\n",
       "    'sole_proprietor': 'YES',\n",
       "    'gender': 'F',\n",
       "    'enumeration_date': '2013-01-24',\n",
       "    'last_updated': '2013-01-24',\n",
       "    'status': 'A',\n",
       "    'name_prefix': 'Dr.',\n",
       "    'name_suffix': '--'},\n",
       "   'taxonomies': [{'code': '103TC0700X',\n",
       "     'taxonomy_group': '',\n",
       "     'desc': 'Psychologist, Clinical',\n",
       "     'state': 'CA',\n",
       "     'license': 'PSY24737',\n",
       "     'primary': True},\n",
       "    {'code': '103TC0700X',\n",
       "     'taxonomy_group': '',\n",
       "     'desc': 'Psychologist, Clinical',\n",
       "     'state': 'HI',\n",
       "     'license': 'PSY 825',\n",
       "     'primary': False}],\n",
       "   'identifiers': [],\n",
       "   'endpoints': [],\n",
       "   'other_names': []}]}"
      ]
     },
     "execution_count": 11,
     "metadata": {},
     "output_type": "execute_result"
    }
   ],
   "source": [
    "final = remove_results_0_prefix(data)\n",
    "final"
   ]
  },
  {
   "cell_type": "code",
   "execution_count": 12,
   "id": "6c68c15c",
   "metadata": {},
   "outputs": [
    {
     "data": {
      "text/html": [
       "<div>\n",
       "<style scoped>\n",
       "    .dataframe tbody tr th:only-of-type {\n",
       "        vertical-align: middle;\n",
       "    }\n",
       "\n",
       "    .dataframe tbody tr th {\n",
       "        vertical-align: top;\n",
       "    }\n",
       "\n",
       "    .dataframe thead th {\n",
       "        text-align: right;\n",
       "    }\n",
       "</style>\n",
       "<table border=\"1\" class=\"dataframe\">\n",
       "  <thead>\n",
       "    <tr style=\"text-align: right;\">\n",
       "      <th></th>\n",
       "      <th>count</th>\n",
       "      <th>created_epoch</th>\n",
       "      <th>numeration_type</th>\n",
       "      <th>last_updated_epoch</th>\n",
       "      <th>npi_number</th>\n",
       "      <th>addresses_0_country_code</th>\n",
       "      <th>addresses_0_country_name</th>\n",
       "      <th>addresses_0_address_purpose</th>\n",
       "      <th>addresses_0_address_type</th>\n",
       "      <th>addresses_0_address_1</th>\n",
       "      <th>...</th>\n",
       "      <th>taxonomies_0_primary</th>\n",
       "      <th>taxonomies_1_code</th>\n",
       "      <th>taxonomies_1_taxonomy_group</th>\n",
       "      <th>taxonomies_1_desc</th>\n",
       "      <th>taxonomies_1_state</th>\n",
       "      <th>taxonomies_1_license</th>\n",
       "      <th>taxonomies_1_primary</th>\n",
       "      <th>identifiers</th>\n",
       "      <th>endpoints</th>\n",
       "      <th>other_names</th>\n",
       "    </tr>\n",
       "  </thead>\n",
       "  <tbody>\n",
       "    <tr>\n",
       "      <th>0</th>\n",
       "      <td>1</td>\n",
       "      <td>1359070245000</td>\n",
       "      <td>NPI-1</td>\n",
       "      <td>1359070245000</td>\n",
       "      <td>1467790436</td>\n",
       "      <td>US</td>\n",
       "      <td>United States</td>\n",
       "      <td>MAILING</td>\n",
       "      <td>DOM</td>\n",
       "      <td>PO BOX 13201</td>\n",
       "      <td>...</td>\n",
       "      <td>True</td>\n",
       "      <td>103TC0700X</td>\n",
       "      <td></td>\n",
       "      <td>Psychologist, Clinical</td>\n",
       "      <td>HI</td>\n",
       "      <td>PSY 825</td>\n",
       "      <td>False</td>\n",
       "      <td>[]</td>\n",
       "      <td>[]</td>\n",
       "      <td>[]</td>\n",
       "    </tr>\n",
       "  </tbody>\n",
       "</table>\n",
       "<p>1 rows × 47 columns</p>\n",
       "</div>"
      ],
      "text/plain": [
       "  count  created_epoch numeration_type last_updated_epoch  npi_number  \\\n",
       "0     1  1359070245000           NPI-1      1359070245000  1467790436   \n",
       "\n",
       "  addresses_0_country_code addresses_0_country_name  \\\n",
       "0                       US            United States   \n",
       "\n",
       "  addresses_0_address_purpose addresses_0_address_type addresses_0_address_1  \\\n",
       "0                     MAILING                      DOM          PO BOX 13201   \n",
       "\n",
       "   ... taxonomies_0_primary taxonomies_1_code taxonomies_1_taxonomy_group  \\\n",
       "0  ...                 True        103TC0700X                               \n",
       "\n",
       "        taxonomies_1_desc taxonomies_1_state taxonomies_1_license  \\\n",
       "0  Psychologist, Clinical                 HI              PSY 825   \n",
       "\n",
       "  taxonomies_1_primary identifiers endpoints other_names  \n",
       "0                False          []        []          []  \n",
       "\n",
       "[1 rows x 47 columns]"
      ]
     },
     "execution_count": 12,
     "metadata": {},
     "output_type": "execute_result"
    }
   ],
   "source": [
    "first_record = flatten(final)\n",
    "df1 = pd.DataFrame.from_dict(first_record,orient='index').T\n",
    "df1.columns=df1.columns.str.replace(\"number\",\"npi_number\")\n",
    "df1.columns = df1.columns.str.lstrip(\"results_0\")\n",
    "df1.columns=df1.columns.str.replace(\"axonomies_0\",\"taxonomies_0\")\n",
    "df1.columns=df1.columns.str.replace(\"axonomies_1\",\"taxonomies_1\")\n",
    "df1.columns=df1.columns.str.replace(\"ast_updated_epoch\",\"last_updated_epoch\")\n",
    "df1.columns=df1.columns.str.replace(\"ndpoints\",\"endpoints\")\n",
    "df1"
   ]
  },
  {
   "cell_type": "code",
   "execution_count": 13,
   "id": "ab1bd0ee",
   "metadata": {},
   "outputs": [],
   "source": [
    "df1.to_csv(out_path+'//'+'npi_details_for_a_particular_npi_'+npi_number+'.csv')"
   ]
  },
  {
   "cell_type": "code",
   "execution_count": null,
   "id": "b1061266",
   "metadata": {},
   "outputs": [],
   "source": []
  },
  {
   "cell_type": "code",
   "execution_count": null,
   "id": "d93ee7e1",
   "metadata": {},
   "outputs": [],
   "source": []
  },
  {
   "cell_type": "code",
   "execution_count": null,
   "id": "cc8d6b15",
   "metadata": {},
   "outputs": [],
   "source": []
  }
 ],
 "metadata": {
  "kernelspec": {
   "display_name": "Python 3 (ipykernel)",
   "language": "python",
   "name": "python3"
  },
  "language_info": {
   "codemirror_mode": {
    "name": "ipython",
    "version": 3
   },
   "file_extension": ".py",
   "mimetype": "text/x-python",
   "name": "python",
   "nbconvert_exporter": "python",
   "pygments_lexer": "ipython3",
   "version": "3.9.7"
  }
 },
 "nbformat": 4,
 "nbformat_minor": 5
}
